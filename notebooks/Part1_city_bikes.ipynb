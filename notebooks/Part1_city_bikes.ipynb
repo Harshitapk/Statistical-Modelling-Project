{
 "cells": [
  {
   "cell_type": "markdown",
   "metadata": {},
   "source": [
    "# CityBikes"
   ]
  },
  {
   "cell_type": "markdown",
   "metadata": {},
   "source": [
    "## 1. Send a request to CityBikes for the city of your choice. "
   ]
  },
  {
   "cell_type": "markdown",
   "metadata": {},
   "source": [
    "### I have written two functions \n",
    "1. get_city_id : To get city id from API city_bikes_url which takes \"city\" name as input.\n",
    "                 I have collected data for Paris city.\n",
    "                 \n",
    "2. get_stations : To get station details in given city (Paris) by providing city_id as                       input obtained from first function."
   ]
  },
  {
   "cell_type": "code",
   "execution_count": 1,
   "metadata": {},
   "outputs": [],
   "source": [
    "import requests\n",
    "import pandas as pd\n",
    "\n",
    "def get_city_id(city):\n",
    "    # Make a request to get data from the CityBikes API\n",
    "    city_bikes_url = \"https://api.citybik.es/v2/networks\"  # URL for getting the list of available networks\n",
    "    response = requests.get(city_bikes_url)\n",
    "\n",
    "    # Check if the request was successful\n",
    "    if response.status_code == 200:\n",
    "        # Parse the JSON response\n",
    "        city_bikes_data = response.json()\n",
    "        city_id = None\n",
    "        \n",
    "        for network in city_bikes_data['networks']:\n",
    "            if network['location']['city'] == city:\n",
    "                city_id = network['id']\n",
    "                break\n",
    "\n",
    "        if city_id:\n",
    "            return city_id\n",
    "        else:\n",
    "            print(f\"No data available for the city: {city}\")\n",
    "            return None\n",
    "    else:\n",
    "        print(f\"Error: {response.status_code}\")\n",
    "        return None\n",
    "\n",
    "\n",
    "def get_stations(city_id):\n",
    "    url = f'https://api.citybik.es/v2/networks/{city_id}' \n",
    "    # Make the API request and handle potential errors\n",
    "    try:\n",
    "        response = requests.get(url)\n",
    "        response.raise_for_status()  # Raise HTTPError for bad requests\n",
    "\n",
    "        # Check if the response content is not empty\n",
    "        if response.content:\n",
    "            data = response.json()\n",
    "            stations = data['network']['stations']\n",
    "            station_data = []\n",
    "\n",
    "            for station in stations:\n",
    "                station_info = {\n",
    "                    'Name': station['name'],\n",
    "                    'Latitude': station['latitude'],\n",
    "                    'Longitude': station['longitude'],\n",
    "                    'Bikes Available': station['free_bikes'],\n",
    "                    'Slots': station['extra']['slots'],\n",
    "                    'Empty Slots': station['empty_slots'],\n",
    "                    'Banking': station['extra']['banking'],\n",
    "                    'Ebikes': station['extra']['ebikes'],\n",
    "                }\n",
    "                station_data.append(station_info)\n",
    "\n",
    "            # Create a DataFrame from the extracted data\n",
    "            df = pd.DataFrame(station_data)\n",
    "            return df\n",
    "        else:\n",
    "            print(\"No data available for the specified city.\")\n",
    "    except requests.exceptions.HTTPError as errh:\n",
    "        print(f\"HTTP Error: {errh}\")\n",
    "    except requests.exceptions.ConnectionError as errc:\n",
    "        print(f\"Error Connecting: {errc}\")\n",
    "    except requests.exceptions.Timeout as errt:\n",
    "        print(f\"Timeout Error: {errt}\")\n",
    "    except requests.exceptions.RequestException as err:\n",
    "        print(f\"Request Exception: {err}\")\n",
    "    except ValueError as e:\n",
    "        print(f\"Error parsing JSON: {e}\")\n",
    "\n",
    "\n",
    "city_name = \"Paris\"\n",
    "\n",
    "# Get the city ID\n",
    "city_id = get_city_id(city_name)\n",
    "\n",
    "# Fetch bike station data using the city ID\n",
    "if city_id:\n",
    "    stations_df = get_stations(city_id)\n",
    "else:\n",
    "    print(\"City ID not found. Cannot fetch bike station data.\")"
   ]
  },
  {
   "cell_type": "markdown",
   "metadata": {},
   "source": [
    "## 2.Parse through the response to get the details you want for the bike stations in that city (latitude, longitude, number of bikes). "
   ]
  },
  {
   "cell_type": "markdown",
   "metadata": {},
   "source": [
    "#### I have intentionally selected all values as I needed those further in the project"
   ]
  },
  {
   "cell_type": "markdown",
   "metadata": {},
   "source": [
    "## 3.Put your parsed results into a DataFrame."
   ]
  },
  {
   "cell_type": "markdown",
   "metadata": {},
   "source": [
    "#### stations_df = get_stations(city_id)"
   ]
  },
  {
   "cell_type": "code",
   "execution_count": null,
   "metadata": {
    "tags": []
   },
   "outputs": [],
   "source": []
  },
  {
   "cell_type": "code",
   "execution_count": null,
   "metadata": {
    "tags": []
   },
   "outputs": [],
   "source": []
  },
  {
   "cell_type": "code",
   "execution_count": null,
   "metadata": {},
   "outputs": [],
   "source": []
  }
 ],
 "metadata": {
  "kernelspec": {
   "display_name": "Python 3 (ipykernel)",
   "language": "python",
   "name": "python3"
  },
  "language_info": {
   "codemirror_mode": {
    "name": "ipython",
    "version": 3
   },
   "file_extension": ".py",
   "mimetype": "text/x-python",
   "name": "python",
   "nbconvert_exporter": "python",
   "pygments_lexer": "ipython3",
   "version": "3.11.5"
  }
 },
 "nbformat": 4,
 "nbformat_minor": 4
}
