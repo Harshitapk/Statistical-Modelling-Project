{
 "cells": [
  {
   "cell_type": "markdown",
   "metadata": {},
   "source": [
    "## 1.Build a regression model."
   ]
  },
  {
   "cell_type": "markdown",
   "metadata": {},
   "source": [
    "### Here I have used Multiple Linear regression model for which I have loaded data from previous parts of the project.\n",
    "\n",
    "I tried to find out relation between 'Empty slots' with other variables like 'Bikes Avalable', 'Slots', 'Ebikes' which later I can use to predict empty slot(target variable) on the basis of other variables (feature variables)"
   ]
  },
  {
   "cell_type": "code",
   "execution_count": 1,
   "metadata": {},
   "outputs": [],
   "source": [
    "import pandas as pd\n",
    "from sklearn.model_selection import train_test_split\n",
    "from sklearn.linear_model import LinearRegression\n",
    "from sklearn.metrics import mean_squared_error, r2_score\n",
    "import requests\n",
    "import pandas as pd\n",
    "import os\n",
    "import json\n",
    "stations_df = pd.read_csv('../data/citybikes_stations.csv')\n",
    "restaurants_df=pd.read_csv('../data/correct_yelp_restaurants.csv')\n",
    "\n",
    "merged_df_r = pd.merge(stations_df, restaurants_df, on=('Latitude','Longitude'))\n"
   ]
  },
  {
   "cell_type": "code",
   "execution_count": 2,
   "metadata": {
    "tags": []
   },
   "outputs": [
    {
     "name": "stdout",
     "output_type": "stream",
     "text": [
      "Mean Squared Error: 0.7154265436231191\n",
      "R-squared: 0.9959194645539086\n",
      "intercept:-0.6325863295735772\n",
      "coefficients:[-0.94975819  1.00883898 -0.28349051]\n"
     ]
    }
   ],
   "source": [
    "import pandas as pd\n",
    "from sklearn.model_selection import train_test_split\n",
    "from sklearn.linear_model import LinearRegression\n",
    "from sklearn.metrics import mean_squared_error, r2_score\n",
    "\n",
    "\n",
    "# Select features and target variable\n",
    "features = ['Bikes Available', 'Slots','Ebikes']\n",
    "target = 'Empty Slots'\n",
    "\n",
    "\n",
    "# Prepare features (X) and target variable (y)\n",
    "X = merged_df_r[features]\n",
    "y = merged_df_r[target]\n",
    "\n",
    "# Split the data into training and testing sets\n",
    "X_train, X_test, y_train, y_test = train_test_split(X, y, test_size=0.2, random_state=42)\n",
    "\n",
    "# Initialize the linear regression model\n",
    "model = LinearRegression()\n",
    "\n",
    "# Train the model on the training data\n",
    "model.fit(X_train, y_train)\n",
    "\n",
    "# Make predictions on the test data\n",
    "predictions = model.predict(X_test)\n",
    "\n",
    "# Evaluate the model\n",
    "mse = mean_squared_error(y_test, predictions)\n",
    "r2 = r2_score(y_test, predictions)\n",
    "\n",
    "print(f'Mean Squared Error: {mse}')\n",
    "print(f'R-squared: {r2}')\n",
    "print(f'intercept:{model.intercept_}')\n",
    "print(f'coefficients:{model.coef_}')"
   ]
  },
  {
   "cell_type": "markdown",
   "metadata": {},
   "source": [
    "## Provide model output and an interpretation of the results. "
   ]
  },
  {
   "cell_type": "code",
   "execution_count": null,
   "metadata": {},
   "outputs": [],
   "source": [
    "Mean Squared Error: 0.7154265436231191\n",
    "R-squared: 0.9959194645539086"
   ]
  },
  {
   "cell_type": "markdown",
   "metadata": {},
   "source": [
    "\n",
    "1. **Intercept**: The intercept, represented as -0.6325863295735772 indicates the baseline value of the dependent variable in the absence of any predictor variables i.e. if features = ['Bikes Available', 'Slots','Ebikes'] are all 0 then this intercept will be value of 'empty slot' which means you will not get empty slots.\n",
    "\n",
    "2. **Coefficients**: \n",
    "   [-0.94975819  1.00883898 -0.28349051] for ['Bikes Available', 'Slots','Ebikes'] respectively \n",
    "   \n",
    "- suggests that -ve coefficient of 'Bike Available' means if this parameter increases possibility of finding 'Empty Slot' is less which is obvious because if bike is available at a slot it means it is occupying a slot.\n",
    "- positive coefficient with 'Slots' means if slot increases possibility of finding 'Empty Slot' increases\n",
    "- -ve coefficient of 'EBikes' means if this parameter increases possibility of finding 'Empty Slot' is less which is obvious because if an ebike is available at a slot it means it is occupying a slot.\n",
    "\n",
    "3. **Mean Squared Error (MSE)**: A lower MSE of .715 indicates that the model's predictions are closer to the actual values on average.\n",
    "\n",
    "4. **R-squared (R²)**:  an R-squared value of approximately 0.9958 means that about 99.59% of the variance in the dependent variable is predictable from the independent variables in the model. A higher R-squared value indicates a better fit of the model to the data.\n",
    "\n"
   ]
  },
  {
   "cell_type": "markdown",
   "metadata": {},
   "source": [
    "# Stretch"
   ]
  },
  {
   "cell_type": "markdown",
   "metadata": {},
   "source": [
    "## How can you turn the regression model into a classification model?"
   ]
  },
  {
   "cell_type": "markdown",
   "metadata": {},
   "source": [
    "Here I have created a classification model using a Decision Tree Classifier to predict the 'Empty Slots Class' based on the specified features = ['Rating', 'Reviews','Banking','Slots'] using test data from merged_df_r dataframe.\n",
    "\n",
    "I have set values for \n",
    "low_threshold and medium_threshold to define the bins for categorizing 'Empty Slots' into classes: 'Unlikely', 'Likely', and 'Highly'.\n",
    "\n",
    "I have used test_size=0.2 in function train_test_split to divide 80% data as training set and 20% data as testing set"
   ]
  },
  {
   "cell_type": "code",
   "execution_count": 3,
   "metadata": {},
   "outputs": [
    {
     "name": "stdout",
     "output_type": "stream",
     "text": [
      "Accuracy: 0.9781659388646288\n"
     ]
    }
   ],
   "source": [
    "low_threshold = 10  # Adjust this value based on your dataset\n",
    "medium_threshold = 30  # Adjust this value based on your dataset\n",
    "\n",
    "# Define the bins and labels for classes\n",
    "bins = [-float(\"inf\"), low_threshold, medium_threshold, float(\"inf\")]\n",
    "labels = ['Unlikely', 'Likely', 'Highly']\n",
    "\n",
    "# Binning the 'Empty Slots' into classes\n",
    "merged_df_r['Empty Slots Class'] = pd.cut(merged_df_r['Empty Slots'], bins=bins, labels=labels)\n",
    "\n",
    "features = ['Rating', 'Reviews','Banking','Slots']\n",
    "target = 'Empty Slots Class'  # The new target variable\n",
    "\n",
    "from sklearn.model_selection import train_test_split   #this function is used to create training and testing datasets\n",
    "from sklearn.tree import DecisionTreeClassifier\n",
    "from sklearn.metrics import accuracy_score\n",
    "\n",
    "# Prepare features (X) and target variable (y)\n",
    "X = merged_df_r[features]\n",
    "y = merged_df_r[target]\n",
    "\n",
    "# Split the data into training and testing sets\n",
    "X_train, X_test, y_train, y_test = train_test_split(X, y, test_size=0.2, random_state=42)\n",
    "\n",
    "# Initialize the Decision Tree classifier\n",
    "classifier = DecisionTreeClassifier(random_state=42)\n",
    "\n",
    "# Train the classifier on the training data\n",
    "classifier.fit(X_train, y_train)\n",
    "\n",
    "# Make predictions on the test data\n",
    "predictions = classifier.predict(X_test)\n",
    "\n",
    "# Evaluate the classifier\n",
    "accuracy = accuracy_score(y_test, predictions)\n",
    "print(f'Accuracy: {accuracy}')\n",
    "\n",
    "\n"
   ]
  },
  {
   "cell_type": "markdown",
   "metadata": {},
   "source": [
    "with the help of DecisionTreeClassifier Model and accuracy of .9781 suggets that model is performing well with given features 'Rating', 'Reviews','Banking','Slots'] i.e. it can predict Empty Slot Class with given features ['Rating', 'Reviews','Banking','Slots'] accurately. However there is a scope to improve the model by providing more training data captured at different time intervals."
   ]
  }
 ],
 "metadata": {
  "kernelspec": {
   "display_name": "Python 3 (ipykernel)",
   "language": "python",
   "name": "python3"
  },
  "language_info": {
   "codemirror_mode": {
    "name": "ipython",
    "version": 3
   },
   "file_extension": ".py",
   "mimetype": "text/x-python",
   "name": "python",
   "nbconvert_exporter": "python",
   "pygments_lexer": "ipython3",
   "version": "3.11.5"
  }
 },
 "nbformat": 4,
 "nbformat_minor": 4
}
