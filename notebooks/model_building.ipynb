{
 "cells": [
  {
   "cell_type": "markdown",
   "metadata": {},
   "source": [
    "Build a regression model."
   ]
  },
  {
   "cell_type": "code",
   "execution_count": 2,
   "metadata": {},
   "outputs": [
    {
     "name": "stdout",
     "output_type": "stream",
     "text": [
      "Mean Squared Error: 0.7154265436231191\n",
      "R-squared: 0.9959194645539086\n"
     ]
    }
   ],
   "source": [
    "import pandas as pd\n",
    "from sklearn.model_selection import train_test_split\n",
    "from sklearn.linear_model import LinearRegression\n",
    "from sklearn.metrics import mean_squared_error, r2_score\n",
    "import requests\n",
    "import pandas as pd\n",
    "import os\n",
    "import json\n",
    "stations_df = pd.read_csv('citybikes_stations.csv')\n",
    "venues_df= pd.read_csv('correct_foursquare_venues.csv')\n",
    "restaurants_df=pd.read_csv('correct_yelp_restaurants.csv')\n",
    "\n",
    "merged_df_r = pd.merge(stations_df, restaurants_df, on=('Latitude','Longitude'))\n",
    "merged_df_v = pd.merge(stations_df, venues_df, on=('Latitude','Longitude'))\n"
   ]
  },
  {
   "cell_type": "code",
   "execution_count": 3,
   "metadata": {
    "tags": []
   },
   "outputs": [
    {
     "name": "stdout",
     "output_type": "stream",
     "text": [
      "Mean Squared Error: 0.7154265436231191\n",
      "R-squared: 0.9959194645539086\n",
      "intercept:-0.6325863295735772\n",
      "coefficients:[-0.94975819  1.00883898 -0.28349051]\n"
     ]
    }
   ],
   "source": [
    "import pandas as pd\n",
    "from sklearn.model_selection import train_test_split\n",
    "from sklearn.linear_model import LinearRegression\n",
    "from sklearn.metrics import mean_squared_error, r2_score\n",
    "\n",
    "\n",
    "# Select features and target variable\n",
    "features = ['Bikes Available', 'Slots','Ebikes']\n",
    "target = 'Empty Slots'\n",
    "\n",
    "\n",
    "# Prepare features (X) and target variable (y)\n",
    "X = merged_df_r[features]\n",
    "y = merged_df_r[target]\n",
    "\n",
    "# Split the data into training and testing sets\n",
    "X_train, X_test, y_train, y_test = train_test_split(X, y, test_size=0.2, random_state=42)\n",
    "\n",
    "# Initialize the linear regression model\n",
    "model = LinearRegression()\n",
    "\n",
    "# Train the model on the training data\n",
    "model.fit(X_train, y_train)\n",
    "\n",
    "# Make predictions on the test data\n",
    "predictions = model.predict(X_test)\n",
    "\n",
    "# Evaluate the model\n",
    "mse = mean_squared_error(y_test, predictions)\n",
    "r2 = r2_score(y_test, predictions)\n",
    "\n",
    "print(f'Mean Squared Error: {mse}')\n",
    "print(f'R-squared: {r2}')\n",
    "print(f'intercept:{model.intercept_}')\n",
    "print(f'coefficients:{model.coef_}')"
   ]
  },
  {
   "cell_type": "markdown",
   "metadata": {},
   "source": [
    "Provide model output and an interpretation of the results. "
   ]
  },
  {
   "cell_type": "code",
   "execution_count": null,
   "metadata": {},
   "outputs": [],
   "source": [
    "Mean Squared Error: 0.7988213475482295\n",
    "R-squared: 0.9957857549311925"
   ]
  },
  {
   "cell_type": "markdown",
   "metadata": {},
   "source": [
    "\n",
    "1. **Intercept**: The intercept, represented as -0.6325863295735772, is the value of the dependent variable when all independent variables are zero. It indicates the baseline value of the dependent variable in the absence of any predictor variables.\n",
    "\n",
    "2. **Coefficients**: The coefficients represent the effect of each independent variable on the dependent variable, holding other variables constant. In your model:\n",
    "   - The coefficient of the first independent variable is approximately -0.94975819.\n",
    "   - The coefficient of the second independent variable is approximately 1.00883898.\n",
    "   - The coefficient of the third independent variable is approximately -0.28349051.\n",
    "   \n",
    "   These values indicate the change in the dependent variable for a one-unit change in the respective independent variable, while keeping other variables constant. A negative coefficient suggests a negative correlation, and a positive coefficient suggests a positive correlation.\n",
    "\n",
    "3. **Mean Squared Error (MSE)**: A lower MSE indicates that the model's predictions are closer to the actual values on average.\n",
    "\n",
    "4. **R-squared (R²)**:  an R-squared value of approximately 0.9958 means that about 99.59% of the variance in the dependent variable is predictable from the independent variables in your model. A higher R-squared value indicates a better fit of the model to the data.\n",
    "\n"
   ]
  },
  {
   "cell_type": "markdown",
   "metadata": {},
   "source": [
    "# Stretch"
   ]
  },
  {
   "cell_type": "markdown",
   "metadata": {},
   "source": [
    "How can you turn the regression model into a classification model?"
   ]
  },
  {
   "cell_type": "code",
   "execution_count": 6,
   "metadata": {},
   "outputs": [
    {
     "name": "stdout",
     "output_type": "stream",
     "text": [
      "Accuracy: 0.9781659388646288\n"
     ]
    }
   ],
   "source": [
    "low_threshold = 10  # Adjust this value based on your dataset\n",
    "medium_threshold = 30  # Adjust this value based on your dataset\n",
    "\n",
    "# Define the bins and labels for classes\n",
    "bins = [-float(\"inf\"), low_threshold, medium_threshold, float(\"inf\")]\n",
    "labels = ['Unlikely', 'Likely', 'Highly']\n",
    "\n",
    "# Binning the 'Empty Slots' into classes\n",
    "merged_df_r['Empty Slots Class'] = pd.cut(merged_df_r['Empty Slots'], bins=bins, labels=labels)\n",
    "\n",
    "features = ['Rating', 'Reviews','Banking','Slots']\n",
    "target = 'Empty Slots Class'  # The new target variable\n",
    "\n",
    "from sklearn.model_selection import train_test_split\n",
    "from sklearn.tree import DecisionTreeClassifier\n",
    "from sklearn.metrics import accuracy_score\n",
    "\n",
    "# Prepare features (X) and target variable (y)\n",
    "X = merged_df_r[features]\n",
    "y = merged_df_r[target]\n",
    "\n",
    "# Split the data into training and testing sets\n",
    "X_train, X_test, y_train, y_test = train_test_split(X, y, test_size=0.2, random_state=42)\n",
    "\n",
    "# Initialize the Decision Tree classifier\n",
    "classifier = DecisionTreeClassifier(random_state=42)\n",
    "\n",
    "# Train the classifier on the training data\n",
    "classifier.fit(X_train, y_train)\n",
    "\n",
    "# Make predictions on the test data\n",
    "predictions = classifier.predict(X_test)\n",
    "\n",
    "# Evaluate the classifier\n",
    "accuracy = accuracy_score(y_test, predictions)\n",
    "print(f'Accuracy: {accuracy}')\n",
    "\n",
    "\n"
   ]
  },
  {
   "cell_type": "markdown",
   "metadata": {},
   "source": [
    "DecisionTreeClassifier Model"
   ]
  }
 ],
 "metadata": {
  "kernelspec": {
   "display_name": "Python 3 (ipykernel)",
   "language": "python",
   "name": "python3"
  },
  "language_info": {
   "codemirror_mode": {
    "name": "ipython",
    "version": 3
   },
   "file_extension": ".py",
   "mimetype": "text/x-python",
   "name": "python",
   "nbconvert_exporter": "python",
   "pygments_lexer": "ipython3",
   "version": "3.11.5"
  }
 },
 "nbformat": 4,
 "nbformat_minor": 4
}
