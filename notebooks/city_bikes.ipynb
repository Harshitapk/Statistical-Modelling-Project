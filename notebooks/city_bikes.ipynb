{
 "cells": [
  {
   "cell_type": "markdown",
   "metadata": {},
   "source": [
    "# CityBikes"
   ]
  },
  {
   "cell_type": "markdown",
   "metadata": {},
   "source": [
    "Send a request to CityBikes for the city of your choice. "
   ]
  },
  {
   "cell_type": "code",
   "execution_count": 1,
   "metadata": {},
   "outputs": [
    {
     "name": "stdout",
     "output_type": "stream",
     "text": [
      "                                    Name   Latitude  Longitude  \\\n",
      "0          Benjamin Godard - Victor Hugo  48.865983   2.275725   \n",
      "1     André Mazet - Saint-André des Arts  48.853756   2.339096   \n",
      "2        Faubourg Du Temple - Republique  48.867872   2.364898   \n",
      "3                 Beaux-Arts - Bonaparte  48.856452   2.334852   \n",
      "4                     Toudouze - Clauzel  48.879296   2.337360   \n",
      "...                                  ...        ...        ...   \n",
      "1450              Stade Gaston Bouillant  48.939959   2.327957   \n",
      "1451           Station Humanisée Brennus  48.923048   2.364443   \n",
      "1452                              Mairie  48.879143   2.416335   \n",
      "1453      Station Humanisée Wilson-Landy  48.915093   2.357903   \n",
      "1454                 Place André Malraux  48.863925   2.335623   \n",
      "\n",
      "      Bikes Available  Slots  Empty Slots  Banking  Ebikes   Station_id  \n",
      "0                   1     35           34    False       1    213688169  \n",
      "1                  13     55           42     True       2     99950133  \n",
      "2                   3     38           34     True       1    312165511  \n",
      "3                   1     20           19     True       0    210405211  \n",
      "4                   0     21           21     True       0        36255  \n",
      "...               ...    ...          ...      ...     ...          ...  \n",
      "1450                2     30           28    False       0  17527110170  \n",
      "1451                0    200          200    False       0   1555868272  \n",
      "1452                5     20           14     True       4  17721073284  \n",
      "1453                2    200          200    False       1  16832319407  \n",
      "1454                4     19           14     True       1    210328645  \n",
      "\n",
      "[1455 rows x 9 columns]\n"
     ]
    }
   ],
   "source": [
    "import requests\n",
    "import pandas as pd\n",
    "\n",
    "def get_city_id(city):\n",
    "    # Make a request to get data from the CityBikes API\n",
    "    city_bikes_url = \"https://api.citybik.es/v2/networks\"  # URL for getting the list of available networks\n",
    "    response = requests.get(city_bikes_url)\n",
    "\n",
    "    # Check if the request was successful\n",
    "    if response.status_code == 200:\n",
    "        # Parse the JSON response\n",
    "        city_bikes_data = response.json()\n",
    "        city_id = None\n",
    "        \n",
    "        for network in city_bikes_data['networks']:\n",
    "            if network['location']['city'] == city:\n",
    "                city_id = network['id']\n",
    "                break\n",
    "\n",
    "        if city_id:\n",
    "            return city_id\n",
    "        else:\n",
    "            print(f\"No data available for the city: {city}\")\n",
    "            return None\n",
    "    else:\n",
    "        print(f\"Error: {response.status_code}\")\n",
    "        return None\n",
    "\n",
    "\n",
    "def get_stations(city_id):\n",
    "    url = f'https://api.citybik.es/v2/networks/{city_id}' \n",
    "    # Make the API request and handle potential errors\n",
    "    try:\n",
    "        response = requests.get(url)\n",
    "        response.raise_for_status()  # Raise HTTPError for bad requests\n",
    "\n",
    "        # Check if the response content is not empty\n",
    "        if response.content:\n",
    "            data = response.json()\n",
    "            stations = data['network']['stations']\n",
    "            station_data = []\n",
    "\n",
    "            for station in stations:\n",
    "                station_info = {\n",
    "                    'Name': station['name'],\n",
    "                    'Latitude': station['latitude'],\n",
    "                    'Longitude': station['longitude'],\n",
    "                    'Bikes Available': station['free_bikes'],\n",
    "                    'Slots': station['extra']['slots'],\n",
    "                    'Empty Slots': station['empty_slots'],\n",
    "                    'Banking': station['extra']['banking'],\n",
    "                    'Ebikes': station['extra']['ebikes'],\n",
    "                }\n",
    "                station_data.append(station_info)\n",
    "\n",
    "            # Create a DataFrame from the extracted data\n",
    "            df = pd.DataFrame(station_data)\n",
    "            return df\n",
    "        else:\n",
    "            print(\"No data available for the specified city.\")\n",
    "    except requests.exceptions.HTTPError as errh:\n",
    "        print(f\"HTTP Error: {errh}\")\n",
    "    except requests.exceptions.ConnectionError as errc:\n",
    "        print(f\"Error Connecting: {errc}\")\n",
    "    except requests.exceptions.Timeout as errt:\n",
    "        print(f\"Timeout Error: {errt}\")\n",
    "    except requests.exceptions.RequestException as err:\n",
    "        print(f\"Request Exception: {err}\")\n",
    "    except ValueError as e:\n",
    "        print(f\"Error parsing JSON: {e}\")\n",
    "\n",
    "\n",
    "city_name = \"Paris\"\n",
    "\n",
    "# Get the city ID\n",
    "city_id = get_city_id(city_name)\n",
    "\n",
    "# Fetch bike station data using the city ID\n",
    "if city_id:\n",
    "    stations_df = get_stations(city_id)\n",
    "    print(stations_df)\n",
    "else:\n",
    "    print(\"City ID not found. Cannot fetch bike station data.\")"
   ]
  },
  {
   "cell_type": "markdown",
   "metadata": {},
   "source": [
    "Parse through the response to get the details you want for the bike stations in that city (latitude, longitude, number of bikes). "
   ]
  },
  {
   "cell_type": "markdown",
   "metadata": {},
   "source": [
    "### I have intentionally selected all values as I needed those further in the project"
   ]
  },
  {
   "cell_type": "markdown",
   "metadata": {},
   "source": [
    "Put your parsed results into a DataFrame."
   ]
  },
  {
   "cell_type": "markdown",
   "metadata": {},
   "source": [
    "### stations_df = get_stations(city_id)"
   ]
  },
  {
   "cell_type": "markdown",
   "metadata": {},
   "source": [
    "I have called two functions get_city_id to get city name for city name as input and get_stations to get station details\n",
    "# Get the city ID\n",
    "#### city_id = get_city_id(city_name)\n",
    "\n",
    "# Fetch bike station data using the city ID\n",
    "if city_id:\n",
    "    stations_df = get_stations(city_id)\n",
    "    print(stations_df)"
   ]
  },
  {
   "cell_type": "code",
   "execution_count": 48,
   "metadata": {
    "tags": []
   },
   "outputs": [],
   "source": []
  },
  {
   "cell_type": "code",
   "execution_count": null,
   "metadata": {},
   "outputs": [],
   "source": []
  }
 ],
 "metadata": {
  "kernelspec": {
   "display_name": "Python 3 (ipykernel)",
   "language": "python",
   "name": "python3"
  },
  "language_info": {
   "codemirror_mode": {
    "name": "ipython",
    "version": 3
   },
   "file_extension": ".py",
   "mimetype": "text/x-python",
   "name": "python",
   "nbconvert_exporter": "python",
   "pygments_lexer": "ipython3",
   "version": "3.11.5"
  }
 },
 "nbformat": 4,
 "nbformat_minor": 4
}
